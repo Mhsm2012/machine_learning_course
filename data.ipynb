{
  "nbformat": 4,
  "nbformat_minor": 0,
  "metadata": {
    "colab": {
      "name": "data.ipynb",
      "provenance": [],
      "authorship_tag": "ABX9TyOqBj4/0RTGzHy7IgA41j/o",
      "include_colab_link": true
    },
    "kernelspec": {
      "name": "python3",
      "display_name": "Python 3"
    },
    "language_info": {
      "name": "python"
    }
  },
  "cells": [
    {
      "cell_type": "markdown",
      "metadata": {
        "id": "view-in-github",
        "colab_type": "text"
      },
      "source": [
        "<a href=\"https://colab.research.google.com/github/Mhsm2012/machine_learning_course/blob/main/data.ipynb\" target=\"_parent\"><img src=\"https://colab.research.google.com/assets/colab-badge.svg\" alt=\"Open In Colab\"/></a>"
      ]
    },
    {
      "cell_type": "markdown",
      "metadata": {
        "id": "tZOzo36b--qb"
      },
      "source": [
        "Importing requied libraies "
      ]
    },
    {
      "cell_type": "code",
      "metadata": {
        "id": "Y-PYTlyy_BLL"
      },
      "source": [
        "import pandas as pd\n",
        "import sqlite3 as sq3 # to deal with sqlite data\n",
        "import pandas.io.sql as pds"
      ],
      "execution_count": 2,
      "outputs": []
    },
    {
      "cell_type": "code",
      "metadata": {
        "id": "-HOfhkQY_KtC"
      },
      "source": [
        "# create a path and make a connection to database "
      ],
      "execution_count": null,
      "outputs": []
    }
  ]
}