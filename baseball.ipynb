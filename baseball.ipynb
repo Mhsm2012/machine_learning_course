{
  "nbformat": 4,
  "nbformat_minor": 0,
  "metadata": {
    "colab": {
      "name": "baseball.ipynb",
      "provenance": [],
      "authorship_tag": "ABX9TyP6NLXdvZrgZflU804lHUCK",
      "include_colab_link": true
    },
    "kernelspec": {
      "name": "python3",
      "display_name": "Python 3"
    },
    "language_info": {
      "name": "python"
    }
  },
  "cells": [
    {
      "cell_type": "markdown",
      "metadata": {
        "id": "view-in-github",
        "colab_type": "text"
      },
      "source": [
        "<a href=\"https://colab.research.google.com/github/Mhsm2012/machine_learning_course/blob/main/baseball.ipynb\" target=\"_parent\"><img src=\"https://colab.research.google.com/assets/colab-badge.svg\" alt=\"Open In Colab\"/></a>"
      ]
    },
    {
      "cell_type": "markdown",
      "metadata": {
        "id": "DomCiAnIJcSQ"
      },
      "source": [
        "**exploring baseball data **"
      ]
    },
    {
      "cell_type": "code",
      "metadata": {
        "id": "rMHmpge-Ji46"
      },
      "source": [
        "# importing the required libraies\n",
        "import sqlite3 as sq3\n",
        "import pandas as pd\n"
      ],
      "execution_count": 1,
      "outputs": []
    },
    {
      "cell_type": "code",
      "metadata": {
        "id": "N9eW3w0WJyn4"
      },
      "source": [
        "# create a path for data then make a connection with sq3lite\n",
        "path = '/content/baseball.db'\n",
        "con=sq3.Connection(path)"
      ],
      "execution_count": 2,
      "outputs": []
    },
    {
      "cell_type": "code",
      "metadata": {
        "id": "CyvH6DiaKBWb"
      },
      "source": [
        ""
      ],
      "execution_count": null,
      "outputs": []
    }
  ]
}