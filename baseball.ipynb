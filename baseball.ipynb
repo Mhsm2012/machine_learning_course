{
  "nbformat": 4,
  "nbformat_minor": 0,
  "metadata": {
    "colab": {
      "name": "baseball.ipynb",
      "provenance": [],
      "authorship_tag": "ABX9TyM2wXI4/icV1m2jihw/0uA7",
      "include_colab_link": true
    },
    "kernelspec": {
      "name": "python3",
      "display_name": "Python 3"
    },
    "language_info": {
      "name": "python"
    }
  },
  "cells": [
    {
      "cell_type": "markdown",
      "metadata": {
        "id": "view-in-github",
        "colab_type": "text"
      },
      "source": [
        "<a href=\"https://colab.research.google.com/github/Mhsm2012/machine_learning_course/blob/main/baseball.ipynb\" target=\"_parent\"><img src=\"https://colab.research.google.com/assets/colab-badge.svg\" alt=\"Open In Colab\"/></a>"
      ]
    },
    {
      "cell_type": "markdown",
      "metadata": {
        "id": "DomCiAnIJcSQ"
      },
      "source": [
        "**exploring baseball data **"
      ]
    },
    {
      "cell_type": "code",
      "metadata": {
        "id": "rMHmpge-Ji46"
      },
      "source": [
        "# importing the required libraies\n",
        "import sqlite3 as sq3\n",
        "import pandas as pd\n"
      ],
      "execution_count": 1,
      "outputs": []
    },
    {
      "cell_type": "code",
      "metadata": {
        "id": "N9eW3w0WJyn4"
      },
      "source": [
        "# create a path for data then make a connection with sq3lite\n",
        "path = '/content/baseball.db'\n",
        "con=sq3.Connection(path)"
      ],
      "execution_count": 2,
      "outputs": []
    },
    {
      "cell_type": "code",
      "metadata": {
        "colab": {
          "base_uri": "https://localhost:8080/",
          "height": 204
        },
        "id": "CyvH6DiaKBWb",
        "outputId": "4155a7c2-747a-47a6-8f23-406ac642a816"
      },
      "source": [
        "# make a new query\n",
        "query=''' SELECT * FROM allstarfull ;'''\n",
        "observations = pd.read_sql(query,con)\n",
        "observations.head()\n"
      ],
      "execution_count": 3,
      "outputs": [
        {
          "output_type": "execute_result",
          "data": {
            "text/html": [
              "<div>\n",
              "<style scoped>\n",
              "    .dataframe tbody tr th:only-of-type {\n",
              "        vertical-align: middle;\n",
              "    }\n",
              "\n",
              "    .dataframe tbody tr th {\n",
              "        vertical-align: top;\n",
              "    }\n",
              "\n",
              "    .dataframe thead th {\n",
              "        text-align: right;\n",
              "    }\n",
              "</style>\n",
              "<table border=\"1\" class=\"dataframe\">\n",
              "  <thead>\n",
              "    <tr style=\"text-align: right;\">\n",
              "      <th></th>\n",
              "      <th>index</th>\n",
              "      <th>playerID</th>\n",
              "      <th>yearID</th>\n",
              "      <th>gameNum</th>\n",
              "      <th>gameID</th>\n",
              "      <th>teamID</th>\n",
              "      <th>lgID</th>\n",
              "      <th>GP</th>\n",
              "      <th>startingPos</th>\n",
              "    </tr>\n",
              "  </thead>\n",
              "  <tbody>\n",
              "    <tr>\n",
              "      <th>0</th>\n",
              "      <td>0</td>\n",
              "      <td>gomezle01</td>\n",
              "      <td>1933</td>\n",
              "      <td>0</td>\n",
              "      <td>ALS193307060</td>\n",
              "      <td>NYA</td>\n",
              "      <td>AL</td>\n",
              "      <td>1.0</td>\n",
              "      <td>1.0</td>\n",
              "    </tr>\n",
              "    <tr>\n",
              "      <th>1</th>\n",
              "      <td>1</td>\n",
              "      <td>ferreri01</td>\n",
              "      <td>1933</td>\n",
              "      <td>0</td>\n",
              "      <td>ALS193307060</td>\n",
              "      <td>BOS</td>\n",
              "      <td>AL</td>\n",
              "      <td>1.0</td>\n",
              "      <td>2.0</td>\n",
              "    </tr>\n",
              "    <tr>\n",
              "      <th>2</th>\n",
              "      <td>2</td>\n",
              "      <td>gehrilo01</td>\n",
              "      <td>1933</td>\n",
              "      <td>0</td>\n",
              "      <td>ALS193307060</td>\n",
              "      <td>NYA</td>\n",
              "      <td>AL</td>\n",
              "      <td>1.0</td>\n",
              "      <td>3.0</td>\n",
              "    </tr>\n",
              "    <tr>\n",
              "      <th>3</th>\n",
              "      <td>3</td>\n",
              "      <td>gehrich01</td>\n",
              "      <td>1933</td>\n",
              "      <td>0</td>\n",
              "      <td>ALS193307060</td>\n",
              "      <td>DET</td>\n",
              "      <td>AL</td>\n",
              "      <td>1.0</td>\n",
              "      <td>4.0</td>\n",
              "    </tr>\n",
              "    <tr>\n",
              "      <th>4</th>\n",
              "      <td>4</td>\n",
              "      <td>dykesji01</td>\n",
              "      <td>1933</td>\n",
              "      <td>0</td>\n",
              "      <td>ALS193307060</td>\n",
              "      <td>CHA</td>\n",
              "      <td>AL</td>\n",
              "      <td>1.0</td>\n",
              "      <td>5.0</td>\n",
              "    </tr>\n",
              "  </tbody>\n",
              "</table>\n",
              "</div>"
            ],
            "text/plain": [
              "   index   playerID  yearID  gameNum  ... teamID lgID   GP  startingPos\n",
              "0      0  gomezle01    1933        0  ...    NYA   AL  1.0          1.0\n",
              "1      1  ferreri01    1933        0  ...    BOS   AL  1.0          2.0\n",
              "2      2  gehrilo01    1933        0  ...    NYA   AL  1.0          3.0\n",
              "3      3  gehrich01    1933        0  ...    DET   AL  1.0          4.0\n",
              "4      4  dykesji01    1933        0  ...    CHA   AL  1.0          5.0\n",
              "\n",
              "[5 rows x 9 columns]"
            ]
          },
          "metadata": {},
          "execution_count": 3
        }
      ]
    },
    {
      "cell_type": "code",
      "metadata": {
        "colab": {
          "base_uri": "https://localhost:8080/"
        },
        "id": "ujShKRy0Lzn_",
        "outputId": "9d0752af-bc6a-44b7-f2c1-4a0952d72f16"
      },
      "source": [
        "query = \"\"\"\n",
        "SELECT *\n",
        "    FROM allstarfull\n",
        "    ;\n",
        "\"\"\"\n",
        "\n",
        "allstar_observations = pd.read_sql(query, con)\n",
        "\n",
        "# print(allstar_observations)\n",
        "\n",
        "# Create a variable, tables, which reads in all data from the table sqlite_master\n",
        "all_tables = pd.read_sql('SELECT * FROM sqlite_master', con)\n",
        "print(all_tables)\n",
        "\n",
        "# Pretend that you were interesting in creating a new baseball hall of fame. Join and analyze the tables to evaluate the top 3 all time best baseball players\n",
        "best_query = \"\"\"\n",
        "SELECT playerID, sum(GP) AS num_games_played, AVG(startingPos) AS avg_starting_position\n",
        "    FROM allstarfull\n",
        "    GROUP BY playerID\n",
        "    ORDER BY num_games_played DESC, avg_starting_position ASC\n",
        "    LIMIT 3\n",
        "\"\"\"\n",
        "best = pd.read_sql(best_query, con)\n",
        "print(best.head())\n",
        "### END SOLUTION"
      ],
      "execution_count": 4,
      "outputs": [
        {
          "output_type": "stream",
          "name": "stdout",
          "text": [
            "    type  ...                                                sql\n",
            "0  table  ...  CREATE TABLE \"allstarfull\" (\\n\"index\" INTEGER,...\n",
            "1  index  ...  CREATE INDEX \"ix_allstarfull_index\"ON \"allstar...\n",
            "2  table  ...  CREATE TABLE \"schools\" (\\n\"index\" INTEGER,\\n  ...\n",
            "3  index  ...  CREATE INDEX \"ix_schools_index\"ON \"schools\" (\"...\n",
            "4  table  ...  CREATE TABLE \"batting\" (\\n\"index\" INTEGER,\\n  ...\n",
            "5  index  ...  CREATE INDEX \"ix_batting_index\"ON \"batting\" (\"...\n",
            "\n",
            "[6 rows x 5 columns]\n",
            "    playerID  num_games_played  avg_starting_position\n",
            "0  musiast01              24.0               6.357143\n",
            "1   mayswi01              24.0               8.000000\n",
            "2  aaronha01              24.0               8.470588\n"
          ]
        }
      ]
    },
    {
      "cell_type": "code",
      "metadata": {
        "id": "qxIUzhHVMYtS"
      },
      "source": [
        ""
      ],
      "execution_count": null,
      "outputs": []
    }
  ]
}